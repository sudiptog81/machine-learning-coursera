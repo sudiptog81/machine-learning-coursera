{
  "nbformat": 4,
  "nbformat_minor": 0,
  "metadata": {
    "colab": {
      "name": "GradientDescent-LinearRegression.ipynb",
      "version": "0.3.2",
      "provenance": [],
      "collapsed_sections": []
    },
    "kernelspec": {
      "name": "python3",
      "display_name": "Python 3"
    },
    "accelerator": "GPU"
  },
  "cells": [
    {
      "cell_type": "markdown",
      "metadata": {
        "id": "ROKnfy-Fr7Rg",
        "colab_type": "text"
      },
      "source": [
        "Implementation of Gradient Descent Algorithm in a Linear Regression Model by _Sudipto Ghosh_ as a part of the course on **Machine Learning** by _Andrew Ng_."
      ]
    },
    {
      "cell_type": "markdown",
      "metadata": {
        "id": "95u2h-rzglv8",
        "colab_type": "text"
      },
      "source": [
        "# Gradient Descent Algorithm\n",
        "\n",
        "**REPEAT UNTIL CONVERGENCE** $\\big\\{$\n",
        "\n",
        "$ \\qquad \\theta_0 := \\theta_j - \\alpha \\frac{\\partial}{\\partial\\,\\theta_0} \\Big(J(\\theta_0, \\theta_1)\\Big) $\n",
        "\n",
        "$\\qquad \\theta_1 := \\theta_j - \\alpha \\frac{\\partial}{\\partial\\,\\theta_1} \\Big(J(\\theta_0, \\theta_1)\\Big)$\n",
        "\n",
        "$\\big\\}$"
      ]
    },
    {
      "cell_type": "markdown",
      "metadata": {
        "id": "YWscbZN1cDBE",
        "colab_type": "text"
      },
      "source": [
        "# Linear Regression Model\n",
        "\n",
        "## Key functions\n",
        "\n",
        "### Hypothesis Function\n",
        "\n",
        "$ h_{\\theta}(x) = \\theta_{0} + \\theta_{1}x $ where,\n",
        " - $ x $ is the independent variable in the training example\n",
        " - $ \\theta_{0}, \\theta_{1} $ are the model parameters\n",
        " \n",
        "### Cost Function\n",
        "\n",
        "$ J(\\theta_{0}, \\theta_{1}) = \\frac{1}{2m} \\Big[ \\sum_{i=1}^{m} (h_\\theta(x_i) - y_i)^2 \\Big] $ where,\n",
        "- $ m $ is the number of examples in the training set\n",
        "- $ \\theta_{0}, \\theta_{1} $ are the model parameters\n",
        "- $ (x_i, y_i) $ is the $ i^{th} $ training example \n",
        "\n",
        "## Goal of the Model\n",
        "\n",
        "**Minimize $J(\\theta_0, \\theta_1)$ and hence find the optimum $ \\theta_0, \\theta_1 $ to apply to $h_\\theta(x)$**"
      ]
    },
    {
      "cell_type": "markdown",
      "metadata": {
        "id": "hoZeqDBwpI82",
        "colab_type": "text"
      },
      "source": [
        "# Linear Regression with Gradient Descent\n",
        "\n",
        "**REPEAT UNTIL CONVERGENCE** $\\big\\{$\n",
        "\n",
        "$ \\qquad \\theta_0 := \\theta_j - \\alpha\\,\\big(\\frac{1}{m}\\big) \\Big(\\sum_{i=1}^m (h_\\theta(x_i) - y_i)\\Big) $\n",
        "\n",
        "$\\qquad \\theta_1 := \\theta_j - \\alpha\\,\\big(\\frac{1}{m}\\big)\\Big(\\sum_{i=1}^m (h_\\theta(x_i) - y_i)\\,x_i\\Big) $\n",
        "\n",
        "$\\big\\}$"
      ]
    },
    {
      "cell_type": "markdown",
      "metadata": {
        "id": "xZDP5XudbJ1G",
        "colab_type": "text"
      },
      "source": [
        "# Download Data\n",
        "\n",
        "Data is available on a GitHub repository and can be fetched using `curl` and stored as `ex1data1.txt` in the root folder of this script."
      ]
    },
    {
      "cell_type": "code",
      "metadata": {
        "id": "KkSqXMwlPYUm",
        "colab_type": "code",
        "colab": {}
      },
      "source": [
        "%%capture\n",
        "!curl \"https://raw.githubusercontent.com/rieder91/MachineLearning/master/Exercise%201/ex1/ex1data1.txt\" > ex1data1.txt"
      ],
      "execution_count": 0,
      "outputs": []
    },
    {
      "cell_type": "markdown",
      "metadata": {
        "id": "TMvC2NCjbhGW",
        "colab_type": "text"
      },
      "source": [
        "# Import Dependencies\n",
        "\n",
        "NumPy, Pandas and Matplotlib will be required in this implementation."
      ]
    },
    {
      "cell_type": "code",
      "metadata": {
        "id": "U0aLI8rRPdUx",
        "colab_type": "code",
        "colab": {}
      },
      "source": [
        "import numpy as np\n",
        "import pandas as pd\n",
        "import matplotlib.pyplot as plt"
      ],
      "execution_count": 0,
      "outputs": []
    },
    {
      "cell_type": "markdown",
      "metadata": {
        "id": "gOQ_z9gsqwNp",
        "colab_type": "text"
      },
      "source": [
        "# Define the Cost Function"
      ]
    },
    {
      "cell_type": "code",
      "metadata": {
        "id": "ENlslPhQPmOW",
        "colab_type": "code",
        "colab": {}
      },
      "source": [
        "def costFunction(x, y, theta):\n",
        "  \"\"\"\n",
        "  Cost Function: J(θ)\n",
        "  @returns (\n",
        "  sum of (squares of all elements of (x.θ - y))\n",
        "  _____________________________________________\n",
        "                    2 * m\n",
        "  )\n",
        "  \"\"\"\n",
        "  m = len(y)\n",
        "  t = np.dot(x, theta) - y\n",
        "  return np.sum(np.power(t, 2)) / (2 * m)"
      ],
      "execution_count": 0,
      "outputs": []
    },
    {
      "cell_type": "markdown",
      "metadata": {
        "id": "33R0Anzgq9NJ",
        "colab_type": "text"
      },
      "source": [
        "# Define the Gradient Descent Function"
      ]
    },
    {
      "cell_type": "code",
      "metadata": {
        "id": "cLDTkXLOQzP5",
        "colab_type": "code",
        "colab": {}
      },
      "source": [
        "def gradientDescent(x, y, theta, alpha, iterations = 100):\n",
        "  \"\"\"\n",
        "  Gradient Descent Algorithm\n",
        "  repeat until convergence {\n",
        "    θ_j = θ_j - (\n",
        "        (alpha / m)\n",
        "      * partial derivative of\n",
        "        cost function wrt θ_j\n",
        "    ) (for j = 0 and j = 1)\n",
        "  }\n",
        "  @returns theta matrix with optimum\n",
        "  values of θ_0, θ_1\n",
        "  \"\"\"\n",
        "  m = float(len(x))\n",
        "  for i in range(iterations):\n",
        "    t = np.dot(x.T, (np.dot(x, theta) - y)) # x' . (x.θ - y)\n",
        "    theta = theta - ((alpha / m) * t)\n",
        "  return theta"
      ],
      "execution_count": 0,
      "outputs": []
    },
    {
      "cell_type": "markdown",
      "metadata": {
        "id": "5hyPiCqorIYD",
        "colab_type": "text"
      },
      "source": [
        "# Define Helper Functions"
      ]
    },
    {
      "cell_type": "code",
      "metadata": {
        "id": "jkgMUU2IZKkP",
        "colab_type": "code",
        "colab": {}
      },
      "source": [
        "def predict(x, theta):\n",
        "  \"\"\"\n",
        "  Predict y-coordinates of hypothesis function\n",
        "  \"\"\"\n",
        "  return np.dot(x, theta)\n",
        "\n",
        "def plot(x, y, theta):\n",
        "  plt.scatter(x[:,1], y)\n",
        "  plt.plot(x[:,1], predict(x, theta), color = \"red\")\n",
        "  plt.xlabel(\"Population in 10,000's\")\n",
        "  plt.ylabel(\"Price in $10,000's\")\n",
        "  plt.show()"
      ],
      "execution_count": 0,
      "outputs": []
    },
    {
      "cell_type": "markdown",
      "metadata": {
        "id": "4IjY1rbdrOKi",
        "colab_type": "text"
      },
      "source": [
        "# Load and Clean Data"
      ]
    },
    {
      "cell_type": "code",
      "metadata": {
        "id": "CoaVwATiSFOA",
        "colab_type": "code",
        "colab": {
          "base_uri": "https://localhost:8080/",
          "height": 204
        },
        "outputId": "3aeb31d5-f64d-4708-8b59-81465b99a984"
      },
      "source": [
        "# Loading and Examining Data\n",
        "data = pd.read_csv(\"ex1data1.txt\", header = None)\n",
        "data.head()"
      ],
      "execution_count": 6,
      "outputs": [
        {
          "output_type": "execute_result",
          "data": {
            "text/html": [
              "<div>\n",
              "<style scoped>\n",
              "    .dataframe tbody tr th:only-of-type {\n",
              "        vertical-align: middle;\n",
              "    }\n",
              "\n",
              "    .dataframe tbody tr th {\n",
              "        vertical-align: top;\n",
              "    }\n",
              "\n",
              "    .dataframe thead th {\n",
              "        text-align: right;\n",
              "    }\n",
              "</style>\n",
              "<table border=\"1\" class=\"dataframe\">\n",
              "  <thead>\n",
              "    <tr style=\"text-align: right;\">\n",
              "      <th></th>\n",
              "      <th>0</th>\n",
              "      <th>1</th>\n",
              "    </tr>\n",
              "  </thead>\n",
              "  <tbody>\n",
              "    <tr>\n",
              "      <th>0</th>\n",
              "      <td>6.1101</td>\n",
              "      <td>17.5920</td>\n",
              "    </tr>\n",
              "    <tr>\n",
              "      <th>1</th>\n",
              "      <td>5.5277</td>\n",
              "      <td>9.1302</td>\n",
              "    </tr>\n",
              "    <tr>\n",
              "      <th>2</th>\n",
              "      <td>8.5186</td>\n",
              "      <td>13.6620</td>\n",
              "    </tr>\n",
              "    <tr>\n",
              "      <th>3</th>\n",
              "      <td>7.0032</td>\n",
              "      <td>11.8540</td>\n",
              "    </tr>\n",
              "    <tr>\n",
              "      <th>4</th>\n",
              "      <td>5.8598</td>\n",
              "      <td>6.8233</td>\n",
              "    </tr>\n",
              "  </tbody>\n",
              "</table>\n",
              "</div>"
            ],
            "text/plain": [
              "        0        1\n",
              "0  6.1101  17.5920\n",
              "1  5.5277   9.1302\n",
              "2  8.5186  13.6620\n",
              "3  7.0032  11.8540\n",
              "4  5.8598   6.8233"
            ]
          },
          "metadata": {
            "tags": []
          },
          "execution_count": 6
        }
      ]
    },
    {
      "cell_type": "code",
      "metadata": {
        "id": "WG741jG4Sbpt",
        "colab_type": "code",
        "colab": {}
      },
      "source": [
        "# Seperating Columns into X and Y matrices\n",
        "X = data.iloc[:,0]\n",
        "Y = data.iloc[:,1]\n",
        "\n",
        "# Change shape of X, Y from (m,) to (m,1)\n",
        "X = X[:,np.newaxis]\n",
        "Y = Y[:,np.newaxis]\n",
        "\n",
        "# Add a 'ones' column to the left of X\n",
        "# to take into account the intercept θ_0\n",
        "X = np.hstack((np.ones((len(X), 1)), X))"
      ],
      "execution_count": 0,
      "outputs": []
    },
    {
      "cell_type": "markdown",
      "metadata": {
        "id": "IF7tAP-crXBk",
        "colab_type": "text"
      },
      "source": [
        "# Find Optimum Parameters"
      ]
    },
    {
      "cell_type": "code",
      "metadata": {
        "id": "4MZNoYK8TznY",
        "colab_type": "code",
        "colab": {
          "base_uri": "https://localhost:8080/",
          "height": 68
        },
        "outputId": "5c8075d7-807c-4c67-c583-3f0860b58fef"
      },
      "source": [
        "# Optimum theta matrix from GD algorithm\n",
        "optimum_theta = gradientDescent(\n",
        "    X, Y, np.zeros([2, 1]), 0.01, 2000\n",
        ")\n",
        "print(f\"Optimum theta matrix:\\n{optimum_theta}\")"
      ],
      "execution_count": 8,
      "outputs": [
        {
          "output_type": "stream",
          "text": [
            "Optimum theta matrix:\n",
            "[[-3.78806857]\n",
            " [ 1.18221277]]\n"
          ],
          "name": "stdout"
        }
      ]
    },
    {
      "cell_type": "markdown",
      "metadata": {
        "id": "01dS9I8brcY3",
        "colab_type": "text"
      },
      "source": [
        "# Inspect Value of the Cost Function"
      ]
    },
    {
      "cell_type": "code",
      "metadata": {
        "id": "l_O1Fee9VC0B",
        "colab_type": "code",
        "colab": {
          "base_uri": "https://localhost:8080/",
          "height": 51
        },
        "outputId": "9ee504d5-a0e7-4b98-e198-4752b6a14752"
      },
      "source": [
        "print(f\"Value of J(θ) with θ_0=0, θ_1=0: \\\n",
        "  {costFunction(X, Y, np.zeros([2, 1]))}\"\n",
        ")\n",
        "print(f\"Value of J(θ) with optimized θ: \\\n",
        "  {costFunction(X, Y, optimum_theta)}\"\n",
        ")"
      ],
      "execution_count": 9,
      "outputs": [
        {
          "output_type": "stream",
          "text": [
            "Value of J(θ) with θ_0=0, θ_1=0:   32.072733877455676\n",
            "Value of J(θ) with optimized θ:   4.4780276098799705\n"
          ],
          "name": "stdout"
        }
      ]
    },
    {
      "cell_type": "markdown",
      "metadata": {
        "id": "qxzpqk_grmW4",
        "colab_type": "text"
      },
      "source": [
        "# Plot Data and Regression Line"
      ]
    },
    {
      "cell_type": "code",
      "metadata": {
        "id": "sPl7JaJHXcg0",
        "colab_type": "code",
        "colab": {
          "base_uri": "https://localhost:8080/",
          "height": 283
        },
        "outputId": "145f9c3f-e765-447d-f8b4-225743a43eb4"
      },
      "source": [
        "plot(X, Y, optimum_theta)"
      ],
      "execution_count": 10,
      "outputs": [
        {
          "output_type": "display_data",
          "data": {
            "image/png": "[encoded data removed]",
            "text/plain": [
              "<Figure size 432x288 with 1 Axes>"
            ]
          },
          "metadata": {
            "tags": []
          }
        }
      ]
    }
  ]
}